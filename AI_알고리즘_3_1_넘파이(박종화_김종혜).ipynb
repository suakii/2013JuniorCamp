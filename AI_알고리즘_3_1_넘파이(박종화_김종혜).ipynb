{
  "nbformat": 4,
  "nbformat_minor": 0,
  "metadata": {
    "colab": {
      "name": "AI_알고리즘_3-1_넘파이(박종화_김종혜).ipynb",
      "provenance": [],
      "collapsed_sections": [],
      "toc_visible": true,
      "authorship_tag": "ABX9TyMp6AST+8ojqhWdJ7x3iQNQ",
      "include_colab_link": true
    },
    "kernelspec": {
      "name": "python3",
      "display_name": "Python 3"
    }
  },
  "cells": [
    {
      "cell_type": "markdown",
      "metadata": {
        "id": "view-in-github",
        "colab_type": "text"
      },
      "source": [
        "<a href=\"https://colab.research.google.com/github/suakii/2013JuniorCamp/blob/master/AI_%EC%95%8C%EA%B3%A0%EB%A6%AC%EC%A6%98_3_1_%EB%84%98%ED%8C%8C%EC%9D%B4(%EB%B0%95%EC%A2%85%ED%99%94_%EA%B9%80%EC%A2%85%ED%98%9C).ipynb\" target=\"_parent\"><img src=\"https://colab.research.google.com/assets/colab-badge.svg\" alt=\"Open In Colab\"/></a>"
      ]
    },
    {
      "cell_type": "markdown",
      "metadata": {
        "id": "C3ZXspU3IaJy",
        "colab_type": "text"
      },
      "source": [
        "#Ai 와 알고리즘 $\\mathrm{III}$\n",
        "\n",
        "학습목표:\n",
        "\n",
        "    신경망 모델 설계의 이해\n",
        "\n",
        "이론: \n",
        "\n",
        "    신경망 모델, 활성화 함수\n",
        "\n",
        "\n",
        "실습: \n",
        "\n",
        "    파이썬을 이용한 간단한 신경망 모델 설계\n",
        "    다양한 활성화 함수 이해 및 실습\n",
        "    Numpy를 이용하녀 다차원 배열 및 행렬연산 실습\n",
        "\n",
        "\n",
        "\n"
      ]
    },
    {
      "cell_type": "code",
      "metadata": {
        "id": "RIdZhMqCuggX",
        "colab_type": "code",
        "colab": {}
      },
      "source": [
        ""
      ],
      "execution_count": null,
      "outputs": []
    },
    {
      "cell_type": "markdown",
      "metadata": {
        "id": "oArLedCpKfjF",
        "colab_type": "text"
      },
      "source": [
        "#Numpy\n",
        "Numpy 패키지(모듈)은 파이썬으로 수행되는 수치 연산에서 대부분 사용이 되는 인기 있는 모듈이며, 인공지능 분야에서도 넘파이의 사용은 필수적이다. 넘파이는 벡터, 행렬, 다차원 데이터 타입의 연산을 편리하게 수행할 수 있도록 도와주며, 내부는 C와 Fortran으로 작성되어 있어 속도가 느리다는 파이썬의 단점을 보완해줄 수 있는 훌륭한 패키지다.\n",
        "\n",
        "2019년 4월 10일 우리는 뉴스를 통해 최초의 블랙홀 이미지를 보게 되었다. 다음 그림은 넘파이 홈페이지에 있는 내용으로 블랙홀 이미지를 만들어 내기 위해 사용된 프로그램을 보여준다. 넘파이도 이미지를 만드는 작업에 사용된 것을 알 수 있다.\n",
        "<p align=\"center\"><img src=\"https://numpy.org/images/content_images/cs/bh_numpy_role.png\" width=\"70%\" height=\"70%\"></p>\n",
        "\n",
        "넘파이를 사용하기 위해서는 다음과 같이 모듈을 임포트 해준다. 넘파이는 보통 별칭으로 관례적으로 np라고 사용한다. 물론 \n",
        "```\n",
        "from numpy import *\n",
        "```\n",
        "이라는 문장을 통해서 사용할 수 도 있지만 대부분의 넘파이를 활용하는 코드에서는\n",
        "```\n",
        "import numpy as np\n",
        "```\n",
        "라고 작성한다.\n",
        "\n",
        "\n"
      ]
    },
    {
      "cell_type": "code",
      "metadata": {
        "id": "8OvIZSlEL6ng",
        "colab_type": "code",
        "colab": {}
      },
      "source": [
        "import numpy as np"
      ],
      "execution_count": null,
      "outputs": []
    },
    {
      "cell_type": "markdown",
      "metadata": {
        "id": "SlpKgPBXOtx8",
        "colab_type": "text"
      },
      "source": [
        "넘파이가 제공하는 함수는 600개가 넘으며 이를 활용하여 보다 편리하게 행렬을 다루는 연산들을 수행할 수 있도록 해준다."
      ]
    },
    {
      "cell_type": "code",
      "metadata": {
        "id": "tgLQ7OrSOhPQ",
        "colab_type": "code",
        "colab": {
          "base_uri": "https://localhost:8080/",
          "height": 34
        },
        "outputId": "b0317630-43de-42d5-d7e4-d81fba627a96"
      },
      "source": [
        "len(dir(np))"
      ],
      "execution_count": null,
      "outputs": [
        {
          "output_type": "execute_result",
          "data": {
            "text/plain": [
              "620"
            ]
          },
          "metadata": {
            "tags": []
          },
          "execution_count": 4
        }
      ]
    },
    {
      "cell_type": "markdown",
      "metadata": {
        "id": "SySTtNdDj-Jm",
        "colab_type": "text"
      },
      "source": [
        "## 벡터\n",
        "Numpy이는 벡터와 행렬을 기본적으로 다루기에 벡터와 행렬에 대한 이해가 필요하다.\n",
        "벡터는 크기와 방향을 갖는 양으로 정의가 된다. 크기가 n인 벡터는 n개의 원소를 가진 배열로 볼 수 있으며 다음과 같이 표시할 수 있다.\n",
        "$$\n",
        "\\begin{align}\n",
        "    y &= \\begin{bmatrix}\n",
        "           x_{1} \\\\\n",
        "           x_{2} \\\\\n",
        "           \\vdots \\\\\n",
        "           x_{m}\n",
        "         \\end{bmatrix}\n",
        "  \\end{align}\t\n",
        "$$\n",
        "벡터의 경우에는 구성하는 원소의 순서가 의미가 있으며 서로 다른 순서는 다른 벡터로 취급한다.크기가 $n$인 모든 벡터의 집합을 $R^n$이라고 하며 $n$차원을 가진 공간을 의미한다. \n",
        "벡터의 형태에 따라 열벡터와 행벡터가 있으며, 필요한 경우 이를 자유롭게 사용할 수 있다.\n",
        "\n",
        "$$\\overrightarrow{A} = \\{4,3\\}$$\n",
        "\n",
        "Numpy에서 벡터는 **np.array()** 함수를 통해서 표현이 된다. Numpy의 array는 같은 타입의 값들의 모임이며 인덱스를 통해 접근할 수 있다.\n",
        "\n",
        "### 벡터 만들기\n",
        "Numpy 에서는 다양한 방법으로 벡터를 만들 수 있다. \n",
        "다음은 np.array 와 리스트를 통해 배열을 만드는 것이다."
      ]
    },
    {
      "cell_type": "code",
      "metadata": {
        "id": "5O4eSi3mSo5K",
        "colab_type": "code",
        "colab": {
          "base_uri": "https://localhost:8080/",
          "height": 34
        },
        "outputId": "d31d40ce-8f53-4ca8-b482-6b6f79cd5c83"
      },
      "source": [
        "x = np.array([1, 2, 3])\n",
        "print(x)"
      ],
      "execution_count": null,
      "outputs": [
        {
          "output_type": "stream",
          "text": [
            "[1 2 3]\n"
          ],
          "name": "stdout"
        }
      ]
    },
    {
      "cell_type": "markdown",
      "metadata": {
        "id": "-X2paufXTseQ",
        "colab_type": "text"
      },
      "source": [
        "또한, arange 함수를 통해 특정 구간의 값들을 가지는 벡터를 만들 수 있다."
      ]
    },
    {
      "cell_type": "code",
      "metadata": {
        "id": "9iPNAd7nT0xl",
        "colab_type": "code",
        "colab": {
          "base_uri": "https://localhost:8080/",
          "height": 51
        },
        "outputId": "e46fd004-1fdb-4e5f-f64f-f19a6c58fbff"
      },
      "source": [
        "y = np.arange(10)\n",
        "z = np.arange(3, 10)\n",
        "print(y)\n",
        "print(z)"
      ],
      "execution_count": null,
      "outputs": [
        {
          "output_type": "stream",
          "text": [
            "[0 1 2 3 4 5 6 7 8 9]\n",
            "[3 4 5 6 7 8 9]\n"
          ],
          "name": "stdout"
        }
      ]
    },
    {
      "cell_type": "markdown",
      "metadata": {
        "id": "Eb0HokK_UWbw",
        "colab_type": "text"
      },
      "source": [
        "다음처럼 linspace 함수를 사용할 경우 시작과 끝을 포함하여 100개의 구간으로 이루어진 벡터를 정의할 수 있다."
      ]
    },
    {
      "cell_type": "code",
      "metadata": {
        "id": "qK2GpL8ST7Fe",
        "colab_type": "code",
        "colab": {
          "base_uri": "https://localhost:8080/",
          "height": 306
        },
        "outputId": "179d15d1-c6a4-4248-a9c6-d57ba3ecf093"
      },
      "source": [
        "k = np.linspace(1, 10, 100)\n",
        "print(k)\n"
      ],
      "execution_count": null,
      "outputs": [
        {
          "output_type": "stream",
          "text": [
            "[ 1.          1.09090909  1.18181818  1.27272727  1.36363636  1.45454545\n",
            "  1.54545455  1.63636364  1.72727273  1.81818182  1.90909091  2.\n",
            "  2.09090909  2.18181818  2.27272727  2.36363636  2.45454545  2.54545455\n",
            "  2.63636364  2.72727273  2.81818182  2.90909091  3.          3.09090909\n",
            "  3.18181818  3.27272727  3.36363636  3.45454545  3.54545455  3.63636364\n",
            "  3.72727273  3.81818182  3.90909091  4.          4.09090909  4.18181818\n",
            "  4.27272727  4.36363636  4.45454545  4.54545455  4.63636364  4.72727273\n",
            "  4.81818182  4.90909091  5.          5.09090909  5.18181818  5.27272727\n",
            "  5.36363636  5.45454545  5.54545455  5.63636364  5.72727273  5.81818182\n",
            "  5.90909091  6.          6.09090909  6.18181818  6.27272727  6.36363636\n",
            "  6.45454545  6.54545455  6.63636364  6.72727273  6.81818182  6.90909091\n",
            "  7.          7.09090909  7.18181818  7.27272727  7.36363636  7.45454545\n",
            "  7.54545455  7.63636364  7.72727273  7.81818182  7.90909091  8.\n",
            "  8.09090909  8.18181818  8.27272727  8.36363636  8.45454545  8.54545455\n",
            "  8.63636364  8.72727273  8.81818182  8.90909091  9.          9.09090909\n",
            "  9.18181818  9.27272727  9.36363636  9.45454545  9.54545455  9.63636364\n",
            "  9.72727273  9.81818182  9.90909091 10.        ]\n"
          ],
          "name": "stdout"
        }
      ]
    },
    {
      "cell_type": "markdown",
      "metadata": {
        "id": "FZXbYqgGVP3g",
        "colab_type": "text"
      },
      "source": [
        "### 벡터의 크기와 방향\n",
        "벡터 $\\overrightarrow{v} = (v_1,v_2)$ 의 크기는 다음과 같의 정의한다.\n",
        "\n",
        "\\begin{equation}\\|\\vec{v}\\| = \\sqrt{v_{1}\\;^{2} + v_{2}\\;^{2}}\\end{equation}\n",
        "\n",
        "다음 벡터 $V$의 크기는 \n",
        "\\begin{equation}\\vec{v} = \\begin{bmatrix}2 \\\\ 1 \\end{bmatrix}\\end{equation}\n",
        "\n",
        "\n",
        "\\begin{equation}\\|\\vec{v}\\| = \\sqrt{2^{2} + 1^{2}}  = \\sqrt{4 + 1} = \\sqrt{5} \\approx 2.24\\end{equation}\n",
        "이다.\n"
      ]
    },
    {
      "cell_type": "code",
      "metadata": {
        "id": "v_3_hYoxUcLY",
        "colab_type": "code",
        "colab": {
          "base_uri": "https://localhost:8080/",
          "height": 34
        },
        "outputId": "3855c2e2-6f0e-4ea0-cfd5-dba9e976a13f"
      },
      "source": [
        "v = np.array([2, 1])\n",
        "vMag = np.sqrt(v[0]**2 + v[1]**2)\n",
        "print (vMag)"
      ],
      "execution_count": null,
      "outputs": [
        {
          "output_type": "stream",
          "text": [
            "2.23606797749979\n"
          ],
          "name": "stdout"
        }
      ]
    },
    {
      "cell_type": "markdown",
      "metadata": {
        "id": "bsLgVnUGY2o_",
        "colab_type": "text"
      },
      "source": [
        "### 방향\n",
        "원점과 벡터의 좌표를 연결한 형태로 나타낸 것을 위치벡터라고 하며 이때는 각을 다음과 같이 나타낼 수 있다.\n",
        "\n",
        "\\begin{equation}tan(\\theta) = \\frac{1}{2}\\end{equation}\n",
        "\\begin{equation}\\theta = tan^{-1} (0.5) \\approx 26.57^{o}\\end{equation}\n"
      ]
    },
    {
      "cell_type": "code",
      "metadata": {
        "id": "ly-OxbJNYCG6",
        "colab_type": "code",
        "colab": {
          "base_uri": "https://localhost:8080/",
          "height": 51
        },
        "outputId": "218b0819-8d50-4ea9-aaff-8ea2fc87b5c9"
      },
      "source": [
        "v = np.array([2,1])\n",
        "vTan = v[1] / v[0]\n",
        "print ('tan = ' + str(vTan))\n",
        "vAtan = np.arctan(vTan)\n",
        "# radian to degree\n",
        "print('inverse-tan = ' + str(np.degrees(vAtan)))"
      ],
      "execution_count": null,
      "outputs": [
        {
          "output_type": "stream",
          "text": [
            "tan = 0.5\n",
            "inverse-tan = 26.56505117707799\n"
          ],
          "name": "stdout"
        }
      ]
    },
    {
      "cell_type": "markdown",
      "metadata": {
        "id": "0DQQvHGYZwh-",
        "colab_type": "text"
      },
      "source": [
        "### 벡터의 합\n",
        "\\begin{equation}\\vec{v} = \\begin{bmatrix}2 \\\\ 1 \\end{bmatrix}\\end{equation}\n",
        "\n",
        "\\begin{equation}\\vec{s} = \\begin{bmatrix}-3 \\\\ 2 \\end{bmatrix}\\end{equation}\n",
        "벡터의 합은 두 벡터의 같은 위치의 값 끼리 더해서 새로운 벡터를 만든다.\n",
        "\n",
        "\\begin{equation}\\vec{z} = \\vec{v}+\\vec{s}\\end{equation}\n",
        "\n",
        "\\begin{equation}\\vec{z} = \\begin{bmatrix}2 \\\\ 1 \\end{bmatrix} + \\begin{bmatrix}-3 \\\\ 2 \\end{bmatrix}\\end{equation}\n",
        "\n",
        "\\begin{equation}\\vec{z} = \\begin{bmatrix}2 \\\\ 1 \\end{bmatrix} + \\begin{bmatrix}-3 \\\\ 2 \\end{bmatrix} = \\begin{bmatrix}-1 \\\\ 3 \\end{bmatrix}\\end{equation}\n"
      ]
    },
    {
      "cell_type": "code",
      "metadata": {
        "id": "gk0G6w3DZd1E",
        "colab_type": "code",
        "colab": {
          "base_uri": "https://localhost:8080/",
          "height": 34
        },
        "outputId": "5f4f90bb-c2f4-4a6a-c78b-d035842cd654"
      },
      "source": [
        "v = np.array([2,1])\n",
        "s = np.array([-3,2])\n",
        "z = v + s\n",
        "print(z)"
      ],
      "execution_count": null,
      "outputs": [
        {
          "output_type": "stream",
          "text": [
            "[-1  3]\n"
          ],
          "name": "stdout"
        }
      ]
    },
    {
      "cell_type": "markdown",
      "metadata": {
        "id": "pZdNri8nZ98E",
        "colab_type": "text"
      },
      "source": [
        "### 벡터의 곱\n",
        "벡터의 곱은 3가지로 연산할 수 있다.\n",
        "- 스칼라 곱\n",
        "- 내적\n",
        "- 외적"
      ]
    },
    {
      "cell_type": "code",
      "metadata": {
        "id": "oeSwUPHRao9u",
        "colab_type": "code",
        "colab": {
          "base_uri": "https://localhost:8080/",
          "height": 34
        },
        "outputId": "59aceb01-31f3-4f44-e2dc-c21da3c62dd0"
      },
      "source": [
        "# 스칼라 곱\n",
        "v = np.array([2,1])\n",
        "\n",
        "w = 2 * v\n",
        "print(w)"
      ],
      "execution_count": null,
      "outputs": [
        {
          "output_type": "stream",
          "text": [
            "[4 2]\n"
          ],
          "name": "stdout"
        }
      ]
    },
    {
      "cell_type": "markdown",
      "metadata": {
        "id": "61bVyDWBbJuH",
        "colab_type": "text"
      },
      "source": [
        "#### 내적\n",
        "벡터의 내적은 같은 위치의 원소끼리 곱하고 더한 결과이며 이는 스칼라가 된다.\n",
        "\\begin{equation} \\vec{v} \\cdot \\vec{s} = (v_{1} \\cdot s_{1}) + (v_{2} \\cdot s_{2}) ... + \\; (v_{n} \\cdot s_{n})\\end{equation}\n",
        "\n",
        "**v** (2,1) and **s** (-3,2)\n",
        "\n",
        "\\begin{equation} \\vec{v} \\cdot \\vec{s} = (2 \\cdot -3) + (1 \\cdot 2) = -6 + 2 = -4\\end{equation}\n"
      ]
    },
    {
      "cell_type": "code",
      "metadata": {
        "id": "E_7r4F7uZ67m",
        "colab_type": "code",
        "colab": {
          "base_uri": "https://localhost:8080/",
          "height": 68
        },
        "outputId": "b906c261-be85-4f56-c614-fb81a30df572"
      },
      "source": [
        "v = np.array([2,1])\n",
        "s = np.array([-3,2])\n",
        "print(v @ s)\n",
        "print(np.dot(v,s))\n",
        "print(np.matmul(v,s))\n"
      ],
      "execution_count": null,
      "outputs": [
        {
          "output_type": "stream",
          "text": [
            "-4\n",
            "-4\n",
            "-4\n"
          ],
          "name": "stdout"
        }
      ]
    },
    {
      "cell_type": "markdown",
      "metadata": {
        "id": "-B3v3eaybeGe",
        "colab_type": "text"
      },
      "source": [
        "벡터의 내적은 다음과 같다. 이를 통해 두 벡터가 이루는 각 $\\theta$ 를 알 수 있다.\n",
        "$$ \\vec{v} \\cdot \\vec{s} = \\|\\vec{v} \\|\\|\\vec{s}\\| \\cos (\\theta) $$ \n",
        "\n",
        "$$ \\cos(\\theta) = \\frac{\\vec{v} \\cdot \\vec{s}}{\\|\\vec{v} \\|\\|\\vec{s}\\|} $$\n",
        "\n",
        "$$ \\cos(\\theta) = \\frac{(2 \\cdot-3) + (-3 \\cdot 2)}{\\sqrt{2^{2} + 1^{2}} \\times \\sqrt{-3^{2} + 2^{2}}} $$\n",
        "\n",
        "$$\\cos(\\theta) = \\frac{-4}{8.0622577483}$$\n",
        "\n",
        "$$\\cos(\\theta) = -0.496138938357 $$\n",
        "\n",
        "$$\\theta \\approx 119.74 $$\n",
        "\n",
        "결국 두 벡터가 이루는 각을 통해 두 벡터의 유사도(같은 방향을 가리키는 정도)를 알 수 있다.\n",
        "\n",
        "$0$도 일때는 두 벡터의 방향이 완전히 일치하며 내적은 최대 값이 된다.\n",
        "\n",
        "$90$도 일때는 두 벡터가 직교인 상태이며 내적은 $0$이다.\n",
        "\n",
        "$180$도 일때는 두 벡터의 방향이 반대이며 내적은 최소값이 된다.\n",
        "\n",
        "따라서, \n",
        "$$\n",
        "|\\vec{x}\\cdot\\vec{y}| \\leq \\|\\vec{x}\\|\\|\\vec{y}\\\n",
        "$$\n",
        "이다."
      ]
    },
    {
      "cell_type": "code",
      "metadata": {
        "id": "OndL_Xb3b2mk",
        "colab_type": "code",
        "colab": {
          "base_uri": "https://localhost:8080/",
          "height": 34
        },
        "outputId": "ab7e7b3d-e27a-4691-8ab3-e2395e9cbe9c"
      },
      "source": [
        "import numpy as np\n",
        "\n",
        "v = np.array([2,1])\n",
        "s = np.array([-3,2])\n",
        "\n",
        "vMag = np.linalg.norm(v)\n",
        "sMag = np.linalg.norm(s)\n",
        "\n",
        "cos = (v @ s) / (vMag * sMag)\n",
        "\n",
        "theta = np.degrees(np.arccos(cos))\n",
        "\n",
        "print(theta)"
      ],
      "execution_count": null,
      "outputs": [
        {
          "output_type": "stream",
          "text": [
            "119.74488129694222\n"
          ],
          "name": "stdout"
        }
      ]
    },
    {
      "cell_type": "markdown",
      "metadata": {
        "id": "etKvDYu4cGjo",
        "colab_type": "text"
      },
      "source": [
        "#### 외적\n",
        "벡터의 외적은 새로운 벡터를 생성한다.벡터의 외적은 3차원 공간의 벡터들간의 이항연산의 일종이다.\n",
        "\\begin{equation}\\vec{p} = \\begin{bmatrix}2 \\\\ 3 \\\\ 1 \\end{bmatrix}\\;\\; \\vec{q} = \\begin{bmatrix}1 \\\\ 2 \\\\ -2 \\end{bmatrix}\\end{equation}\n",
        "\n",
        "\\begin{equation}r_{1} = p_{2}q_{3} - p_{3}q_{2}\\end{equation}\n",
        "\\begin{equation}r_{2} = p_{3}q_{1} - p_{1}q_{3}\\end{equation}\n",
        "\\begin{equation}r_{3} = p_{1}q_{2} - p_{2}q_{1}\\end{equation}\n",
        "\n",
        "\\begin{equation}\\vec{r} = \\vec{p} \\times \\vec{q} = \\begin{bmatrix}(3 \\cdot -2) - (1 \\cdot 2) \\\\ (1 \\cdot 1) - (2 \\cdot -2) \\\\ (2 \\cdot 2) - (3 \\cdot 1) \\end{bmatrix} = \\begin{bmatrix}-6 - 2 \\\\ 1 - -4 \\\\ 4 - 3 \\end{bmatrix} = \\begin{bmatrix}-8 \\\\ 5 \\\\ 1 \\end{bmatrix}\\end{equation}\n",
        "\n"
      ]
    },
    {
      "cell_type": "code",
      "metadata": {
        "id": "jMv-sOxgbVXJ",
        "colab_type": "code",
        "colab": {
          "base_uri": "https://localhost:8080/",
          "height": 34
        },
        "outputId": "67323af8-9946-428b-c8ac-8762b68026df"
      },
      "source": [
        "p = np.array([2,3,1])\n",
        "q = np.array([1,2,-2])\n",
        "r = np.cross(p,q)\n",
        "print(r)"
      ],
      "execution_count": null,
      "outputs": [
        {
          "output_type": "stream",
          "text": [
            "[-8  5  1]\n"
          ],
          "name": "stdout"
        }
      ]
    },
    {
      "cell_type": "markdown",
      "metadata": {
        "id": "EwxbJa1KcarV",
        "colab_type": "text"
      },
      "source": [
        "## Matrices(행렬)\n",
        "행렬은 숫자를 직사각형 모양으로 배열해 놓은 것이다. 행렬은 행과 열로 이루어지며 특정 위치의 원소를 접근하기 위하여 행과 열의 인덱스를 사용한다.  넘파이에서는 np.array를 통해 벡터와 행렬을 모두 만들 수 있게 된다. 결국 행렬 속에는 벡터들이 들어 있으며 행 벡터, 열 벡터로 행과 열로 구분하여 지칭할 수 도 있다. 또한, 매트릭스의 기본 연산을 수행하기 쉽도록 np.matrix()를 지원한다.\n",
        "\\begin{equation}A = \\begin{bmatrix}\n",
        "  1 & 2 & 3 \\\\\n",
        "  4 & 5 & 6\n",
        " \\end{bmatrix}\n",
        "\\end{equation}\n",
        "\n",
        "\n",
        "\\begin{equation}A = \\begin{bmatrix}\n",
        "  a_{1,1} & a_{1,2} & a_{1,3} \\\\\n",
        "  a_{2,1} & a_{2,2} & a_{2,3}\n",
        " \\end{bmatrix}\n",
        "\\end{equation}\n",
        "\n"
      ]
    },
    {
      "cell_type": "code",
      "metadata": {
        "id": "ozHsD6F0cTtf",
        "colab_type": "code",
        "colab": {
          "base_uri": "https://localhost:8080/",
          "height": 85
        },
        "outputId": "35235950-016d-4a6d-863f-542f41b63b14"
      },
      "source": [
        "import numpy as np\n",
        "\n",
        "A = np.array([[1,2,3],\n",
        "              [4,5,6]])\n",
        "print(A)\n",
        "print(A.shape)\n",
        "print(A.ndim)"
      ],
      "execution_count": null,
      "outputs": [
        {
          "output_type": "stream",
          "text": [
            "[[1 2 3]\n",
            " [4 5 6]]\n",
            "(2, 3)\n",
            "2\n"
          ],
          "name": "stdout"
        }
      ]
    },
    {
      "cell_type": "markdown",
      "metadata": {
        "id": "m9Q87KtCcxPy",
        "colab_type": "text"
      },
      "source": [
        "### 행렬의 합과 차\n",
        "벡터와 마찬가지로 넘파이를 이용해서 합과 차는 벡터와 동일하다.\n",
        "\\begin{equation}\\begin{bmatrix}1 & 2 & 3 \\\\4 & 5 & 6\\end{bmatrix}+ \\begin{bmatrix}6 & 5 & 4 \\\\3 & 2 & 1\\end{bmatrix} = \\begin{bmatrix}7 & 7 & 7 \\\\7 & 7 & 7\\end{bmatrix}\\end{equation}\n"
      ]
    },
    {
      "cell_type": "code",
      "metadata": {
        "id": "3P9y67QUc5M2",
        "colab_type": "code",
        "colab": {
          "base_uri": "https://localhost:8080/",
          "height": 85
        },
        "outputId": "83e444e2-db8e-4222-905c-f51b3e60ab60"
      },
      "source": [
        "import numpy as np\n",
        "\n",
        "A = np.array([[1,2,3],\n",
        "              [4,5,6]])\n",
        "B = np.array([[6,5,4],\n",
        "              [3,2,1]])\n",
        "print(A + B)\n",
        "print(A - B)"
      ],
      "execution_count": null,
      "outputs": [
        {
          "output_type": "stream",
          "text": [
            "[[7 7 7]\n",
            " [7 7 7]]\n",
            "[[-5 -3 -1]\n",
            " [ 1  3  5]]\n"
          ],
          "name": "stdout"
        }
      ]
    },
    {
      "cell_type": "markdown",
      "metadata": {
        "id": "t1U8Rw1Lc_g_",
        "colab_type": "text"
      },
      "source": [
        "### 전치 행렬\n",
        "전치 행렬은 행과 열을 바꾸는 것이며 넘파이에서는 transpose() 함수 또는 .T로 연산을 할 수 있다.\n",
        "\\begin{equation}\\begin{bmatrix}1 & 2 & 3 \\\\4 & 5 & 6\\end{bmatrix}^{T} = \\begin{bmatrix}1 & 4\\\\2 & 5\\\\3 & 6 \\end{bmatrix}\\end{equation}"
      ]
    },
    {
      "cell_type": "code",
      "metadata": {
        "id": "iNcy6-cQc8Mx",
        "colab_type": "code",
        "colab": {
          "base_uri": "https://localhost:8080/",
          "height": 119
        },
        "outputId": "23efe344-d9a0-463e-fcb9-de362f111bf7"
      },
      "source": [
        "import numpy as np\n",
        "\n",
        "A = np.array([[1,2,3],\n",
        "              [4,5,6]])\n",
        "print(np.transpose(A))\n",
        "print(A.T)"
      ],
      "execution_count": null,
      "outputs": [
        {
          "output_type": "stream",
          "text": [
            "[[1 4]\n",
            " [2 5]\n",
            " [3 6]]\n",
            "[[1 4]\n",
            " [2 5]\n",
            " [3 6]]\n"
          ],
          "name": "stdout"
        }
      ]
    },
    {
      "cell_type": "markdown",
      "metadata": {
        "id": "f6CTIYeid1wf",
        "colab_type": "text"
      },
      "source": [
        "### 스칼라 곱\n",
        "\\begin{equation}2 \\times \\begin{bmatrix}1 & 2 & 3 \\\\4 & 5 & 6\\end{bmatrix} = \\begin{bmatrix}2 & 4 & 6 \\\\8 & 10 & 12\\end{bmatrix}\\end{equation}\n"
      ]
    },
    {
      "cell_type": "code",
      "metadata": {
        "id": "BfhNneW0d1BY",
        "colab_type": "code",
        "colab": {
          "base_uri": "https://localhost:8080/",
          "height": 51
        },
        "outputId": "cf0e1f4b-3aaa-4fbd-e557-3f7e4f75c83c"
      },
      "source": [
        "A = np.array([[1,2,3],\n",
        "              [4,5,6]])\n",
        "print(2 * A)"
      ],
      "execution_count": null,
      "outputs": [
        {
          "output_type": "stream",
          "text": [
            "[[ 2  4  6]\n",
            " [ 8 10 12]]\n"
          ],
          "name": "stdout"
        }
      ]
    },
    {
      "cell_type": "markdown",
      "metadata": {
        "id": "50lU3azQiW1m",
        "colab_type": "text"
      },
      "source": [
        "### 행렬 곱\n",
        "\\begin{equation}\\begin{bmatrix}1 & 2 & 3 \\\\4 & 5 & 6\\end{bmatrix} \\cdot \\begin{bmatrix}9 & 8 \\\\ 7 & 6 \\\\ 5 & 4\\end{bmatrix}\\end{equation}\n",
        "\n",
        "\n",
        "\\begin{equation}(1,2,3) \\cdot (9,7,5) = (1 \\times 9) + (2 \\times 7) + (3 \\times 5) = 38\\end{equation}\n",
        "\n",
        "$$\\cdots$$\n",
        "\n",
        "\\begin{equation}(4,5,6) \\cdot (8,6,4) = (4 \\times 8) + (5 \\times 6) + (6 \\times 4) = 86\\end{equation}\n",
        "\n",
        "\n",
        "\\begin{equation}\\begin{bmatrix}38 & 32\\\\101 & 86\\end{bmatrix} \\end{equation}\n"
      ]
    },
    {
      "cell_type": "markdown",
      "metadata": {
        "id": "RgXdaXqyijYT",
        "colab_type": "text"
      },
      "source": [
        "인공지능 분야에서 두 행렬의 곱셈은 np.dot() 함수를 많이 사용한다. 이 경우 dot 연산은 행렬vs행렬, 행렬vs벡터, 벡터vs벡터의 연산 모두를 지원한다. "
      ]
    },
    {
      "cell_type": "code",
      "metadata": {
        "id": "xyWZQBg7lP76",
        "colab_type": "code",
        "colab": {
          "base_uri": "https://localhost:8080/",
          "height": 102
        },
        "outputId": "5d83e796-c57d-4ed9-cced-f4bf40081b37"
      },
      "source": [
        "# 1.행렬-행렬\n",
        "A = np.array([[1,2,3]\n",
        "               ,[4,5,6]])\n",
        "B = np.array([[9,8],\n",
        "               [7,6],\n",
        "               [5,4]])\n",
        "print(A.shape)\n",
        "print(B.shape)\n",
        "print(np.dot(A,B))\n",
        "print(np.dot(A,B).shape)"
      ],
      "execution_count": null,
      "outputs": [
        {
          "output_type": "stream",
          "text": [
            "(2, 3)\n",
            "(3, 2)\n",
            "[[ 38  32]\n",
            " [101  86]]\n",
            "(2, 2)\n"
          ],
          "name": "stdout"
        }
      ]
    },
    {
      "cell_type": "code",
      "metadata": {
        "id": "ibVN4HeVlfoD",
        "colab_type": "code",
        "colab": {
          "base_uri": "https://localhost:8080/",
          "height": 85
        },
        "outputId": "0c5e882b-8722-4616-a541-6cf961fbe041"
      },
      "source": [
        "# 2.행렬-벡터\n",
        "A = np.array([[1,2,3]\n",
        "               ,[4,5,6]])\n",
        "B = np.array([1,2,3])\n",
        "print(A.shape)\n",
        "print(B.shape)\n",
        "print(np.dot(A,B))\n",
        "print(np.dot(A,B).shape)"
      ],
      "execution_count": null,
      "outputs": [
        {
          "output_type": "stream",
          "text": [
            "(2, 3)\n",
            "(3,)\n",
            "[14 32]\n",
            "(2,)\n"
          ],
          "name": "stdout"
        }
      ]
    },
    {
      "cell_type": "code",
      "metadata": {
        "id": "zThpHgwol3en",
        "colab_type": "code",
        "colab": {
          "base_uri": "https://localhost:8080/",
          "height": 85
        },
        "outputId": "203560b0-8e65-4f24-fc15-8a0be776000b"
      },
      "source": [
        "# 2.행렬-벡터\n",
        "A = np.array([1,2,3])\n",
        "B = np.array([1,2,3])\n",
        "print(A.shape)\n",
        "print(B.shape)\n",
        "print(np.dot(A,B))\n",
        "print(np.dot(A,B).shape)"
      ],
      "execution_count": null,
      "outputs": [
        {
          "output_type": "stream",
          "text": [
            "(3,)\n",
            "(3,)\n",
            "14\n",
            "()\n"
          ],
          "name": "stdout"
        }
      ]
    },
    {
      "cell_type": "markdown",
      "metadata": {
        "id": "wJa5S7kalA5s",
        "colab_type": "text"
      },
      "source": [
        "np.array() 를 통해 행렬을 처리하는 것이 아닌 np.matrix를 통해서도 행렬의 연산을 수행할 수 있다."
      ]
    },
    {
      "cell_type": "code",
      "metadata": {
        "id": "uaR1VisOdYWF",
        "colab_type": "code",
        "colab": {
          "base_uri": "https://localhost:8080/",
          "height": 204
        },
        "outputId": "7fbb30a1-737c-4441-b249-97393dd3ca9e"
      },
      "source": [
        "import numpy as np\n",
        "\n",
        "##매트릭스로 선언\n",
        "A = np.matrix([[1,2,3]\n",
        "               ,[4,5,6]])\n",
        "B = np.matrix([[9,8],\n",
        "               [7,6],\n",
        "               [5,4]])\n",
        "print(type(A))\n",
        "print(A * B)\n",
        "print(np.dot(A,B))\n",
        "print(B * A)\n",
        "print(np.dot(B,A))\n"
      ],
      "execution_count": null,
      "outputs": [
        {
          "output_type": "stream",
          "text": [
            "<class 'numpy.matrix'>\n",
            "[[ 38  32]\n",
            " [101  86]]\n",
            "[[ 38  32]\n",
            " [101  86]]\n",
            "[[41 58 75]\n",
            " [31 44 57]\n",
            " [21 30 39]]\n",
            "[[41 58 75]\n",
            " [31 44 57]\n",
            " [21 30 39]]\n"
          ],
          "name": "stdout"
        }
      ]
    },
    {
      "cell_type": "markdown",
      "metadata": {
        "id": "up5HBivem2LR",
        "colab_type": "text"
      },
      "source": [
        "##랜덤\n",
        "넘파이를 이용하여 랜덤하게 수를 발생시킬때는 ranom 함수를 사용한다. 신경망의 가중치 등을 초기화 할 때 랜덤하게 부여된 가중치를 이용하여 학습을 진행한다.\n",
        "rand 함수는 0, 1 사이의 난수를 발생시키며 매개변수의 수 만큼 랜덤하게 수를 돌려준다. 다음 함수는 균등분포로 부터 랜덤하게 수를 추출하는 것이다."
      ]
    },
    {
      "cell_type": "code",
      "metadata": {
        "id": "fLqdAg9Jixok",
        "colab_type": "code",
        "colab": {
          "base_uri": "https://localhost:8080/",
          "height": 85
        },
        "outputId": "d58f4797-7ac8-4bf0-f070-6c54918556eb"
      },
      "source": [
        "import numpy as np\n",
        "print(np.random.rand(10))\n",
        "print(np.random.rand(2,3))"
      ],
      "execution_count": null,
      "outputs": [
        {
          "output_type": "stream",
          "text": [
            "[0.55951959 0.52398407 0.15219648 0.48591084 0.04385471 0.60272615\n",
            " 0.15203438 0.81475878 0.71800598 0.62592359]\n",
            "[[0.85617939 0.1875218  0.69608143]\n",
            " [0.44549532 0.74294399 0.53596572]]\n"
          ],
          "name": "stdout"
        }
      ]
    },
    {
      "cell_type": "markdown",
      "metadata": {
        "id": "dJprkeiyn_Ji",
        "colab_type": "text"
      },
      "source": [
        "물론 다양한 분포를 가정한 랜덤 넘버의 추출이 가능하다. 정규분포로 부터 랜덤한 수를 추출하기 위해서는 다음 함수를 호출한다.\n"
      ]
    },
    {
      "cell_type": "code",
      "metadata": {
        "id": "c4Ua_AMxngP9",
        "colab_type": "code",
        "colab": {
          "base_uri": "https://localhost:8080/",
          "height": 102
        },
        "outputId": "a03d0c61-51d2-4426-c99a-56a629e82a3f"
      },
      "source": [
        "print(np.random.randn(5,5))"
      ],
      "execution_count": null,
      "outputs": [
        {
          "output_type": "stream",
          "text": [
            "[[-0.96576045 -0.18717868 -1.66827065  1.68646347  0.29835643]\n",
            " [-0.7512397  -1.03596542  0.40029393  2.52101491  0.39646358]\n",
            " [ 0.39919167  1.83661896 -0.52983991 -1.32872733 -0.9488517 ]\n",
            " [-0.94847088  1.35959069  0.61553382  1.05219763 -0.20699843]\n",
            " [ 0.46930131 -0.57837469  0.05701029  2.16828757  0.34279705]]\n"
          ],
          "name": "stdout"
        }
      ]
    },
    {
      "cell_type": "markdown",
      "metadata": {
        "id": "co4f9pA6pImv",
        "colab_type": "text"
      },
      "source": [
        "## Indexing and Slicing\n",
        "벡터의 색인과 슬라이싱은 파이썬의 리스트와 동일하다.\n"
      ]
    },
    {
      "cell_type": "code",
      "metadata": {
        "id": "s-2xDyLYoKdh",
        "colab_type": "code",
        "colab": {
          "base_uri": "https://localhost:8080/",
          "height": 51
        },
        "outputId": "4420d250-f248-43d1-ef41-3f5ecaae0ead"
      },
      "source": [
        "x = np.array([2,4,6,8,10])\n",
        "print(x[0])\n",
        "print(x[4]) "
      ],
      "execution_count": null,
      "outputs": [
        {
          "output_type": "stream",
          "text": [
            "2\n",
            "10\n"
          ],
          "name": "stdout"
        }
      ]
    },
    {
      "cell_type": "code",
      "metadata": {
        "id": "iSmRlENMpT0i",
        "colab_type": "code",
        "colab": {
          "base_uri": "https://localhost:8080/",
          "height": 102
        },
        "outputId": "6ac764a1-10fa-43f4-a685-a7ec792b6c58"
      },
      "source": [
        "x = np.random.rand(10)   \n",
        "x1 = x[2:5]             \n",
        "x2 = x[:4]              \n",
        "x3 = x[7:]              \n",
        "xlast = x[-1]           \n",
        "\n",
        "print(\"x=      \"+np.array_str(x,precision=3))\n",
        "print(\"x[2:5]= \"+np.array_str(x1,precision=3))\n",
        "print(\"x[:4]=  \"+np.array_str(x2,precision=3))\n",
        "print(\"x[7:]=  \"+np.array_str(x3,precision=3))\n",
        "print(\"xlast=  {0:5.3f}\".format(xlast))\n"
      ],
      "execution_count": null,
      "outputs": [
        {
          "output_type": "stream",
          "text": [
            "x=      [0.522 0.468 0.637 0.932 0.487 0.251 0.933 0.712 0.225 0.713]\n",
            "x[2:5]= [0.637 0.932 0.487]\n",
            "x[:4]=  [0.522 0.468 0.637 0.932]\n",
            "x[7:]=  [0.712 0.225 0.713]\n",
            "xlast=  0.713\n"
          ],
          "name": "stdout"
        }
      ]
    },
    {
      "cell_type": "markdown",
      "metadata": {
        "id": "2VlGwlydpxop",
        "colab_type": "text"
      },
      "source": [
        "행렬의 색인과 슬라이싱 역시 동일하며 행렬의 색인과 슬라이싱은 머신러닝 분야에서 자주 사용되고 있다."
      ]
    },
    {
      "cell_type": "code",
      "metadata": {
        "id": "1wRBqyibp5Pt",
        "colab_type": "code",
        "colab": {
          "base_uri": "https://localhost:8080/",
          "height": 68
        },
        "outputId": "15908b07-a847-4551-d049-2f277cccfa3b"
      },
      "source": [
        "x = np.arange(0,12)\n",
        "print(type(x))\n",
        "print(len(x))\n",
        "print(x)"
      ],
      "execution_count": null,
      "outputs": [
        {
          "output_type": "stream",
          "text": [
            "<class 'numpy.ndarray'>\n",
            "12\n",
            "[ 0  1  2  3  4  5  6  7  8  9 10 11]\n"
          ],
          "name": "stdout"
        }
      ]
    },
    {
      "cell_type": "code",
      "metadata": {
        "id": "VnH9fuM0p_zf",
        "colab_type": "code",
        "colab": {
          "base_uri": "https://localhost:8080/",
          "height": 68
        },
        "outputId": "e5cdfb2a-c096-4d2b-a427-91726c44c441"
      },
      "source": [
        "y = np.reshape(x, (3,4))\n",
        "print(y)"
      ],
      "execution_count": null,
      "outputs": [
        {
          "output_type": "stream",
          "text": [
            "[[ 0  1  2  3]\n",
            " [ 4  5  6  7]\n",
            " [ 8  9 10 11]]\n"
          ],
          "name": "stdout"
        }
      ]
    },
    {
      "cell_type": "code",
      "metadata": {
        "id": "h4Kv4pRkqHOo",
        "colab_type": "code",
        "colab": {
          "base_uri": "https://localhost:8080/",
          "height": 34
        },
        "outputId": "bb61aa8f-a4e0-466a-8a8a-6cd54a80cad1"
      },
      "source": [
        "print(y[:,0]) #첫 번째 열 추출"
      ],
      "execution_count": null,
      "outputs": [
        {
          "output_type": "stream",
          "text": [
            "[0 4 8]\n"
          ],
          "name": "stdout"
        }
      ]
    },
    {
      "cell_type": "code",
      "metadata": {
        "id": "jfa0H9aDrFME",
        "colab_type": "code",
        "colab": {
          "base_uri": "https://localhost:8080/",
          "height": 68
        },
        "outputId": "8afe0242-e290-4a46-ccaa-5626f896dd60"
      },
      "source": [
        "print(y[:, 1:-1])"
      ],
      "execution_count": null,
      "outputs": [
        {
          "output_type": "stream",
          "text": [
            "[[ 1  2]\n",
            " [ 5  6]\n",
            " [ 9 10]]\n"
          ],
          "name": "stdout"
        }
      ]
    },
    {
      "cell_type": "markdown",
      "metadata": {
        "id": "oxIiZT1jrw0N",
        "colab_type": "text"
      },
      "source": [
        "넘파이의 행렬은 다음과 같이 axis 특성을 갖고 있다. 이 축 정보를 통해 편리한 연산이 가능하다.\n",
        "<p align=\"center\"><img src=\"https://fgnt.github.io/python_crashkurs_doc/_images/numpy_array_t.png\" width=\"70%\" height=\"70%\"></p>\n",
        "\n",
        "\n"
      ]
    },
    {
      "cell_type": "markdown",
      "metadata": {
        "id": "E-u1Q42DsSh3",
        "colab_type": "text"
      },
      "source": [
        "y 행렬은 다음과 같이 3행 4열 행렬이며 axis=0은 열 단위로, axis=1은 행단위로 생각할 수 있다."
      ]
    },
    {
      "cell_type": "code",
      "metadata": {
        "id": "jP7Klu5IsNS4",
        "colab_type": "code",
        "colab": {
          "base_uri": "https://localhost:8080/",
          "height": 68
        },
        "outputId": "34d5131c-b63c-415b-e12f-98acc7cff983"
      },
      "source": [
        "print(y)"
      ],
      "execution_count": null,
      "outputs": [
        {
          "output_type": "stream",
          "text": [
            "[[ 0  1  2  3]\n",
            " [ 4  5  6  7]\n",
            " [ 8  9 10 11]]\n"
          ],
          "name": "stdout"
        }
      ]
    },
    {
      "cell_type": "markdown",
      "metadata": {
        "id": "_jLSG6IcsfFn",
        "colab_type": "text"
      },
      "source": [
        "따라서 다음 코드는 위 행렬의 열 단위 합을 출력한다."
      ]
    },
    {
      "cell_type": "code",
      "metadata": {
        "id": "9eMJmSmnsPdE",
        "colab_type": "code",
        "colab": {
          "base_uri": "https://localhost:8080/",
          "height": 34
        },
        "outputId": "f351a0d7-f32c-4606-a7d8-289973ee8e54"
      },
      "source": [
        "print(np.sum(y, axis = 0))"
      ],
      "execution_count": null,
      "outputs": [
        {
          "output_type": "stream",
          "text": [
            "[12 15 18 21]\n"
          ],
          "name": "stdout"
        }
      ]
    },
    {
      "cell_type": "markdown",
      "metadata": {
        "id": "TwCJJpess8wl",
        "colab_type": "text"
      },
      "source": [
        "또한, 다음 코드는 위 행렬의 행 단위 합을 출력한다.\n"
      ]
    },
    {
      "cell_type": "code",
      "metadata": {
        "id": "7pXiPBr4skgQ",
        "colab_type": "code",
        "colab": {
          "base_uri": "https://localhost:8080/",
          "height": 34
        },
        "outputId": "6bf8d84d-9579-4a38-c0a7-7e60ab59367a"
      },
      "source": [
        "print(np.sum(y, axis = 1))"
      ],
      "execution_count": null,
      "outputs": [
        {
          "output_type": "stream",
          "text": [
            "[ 6 22 38]\n"
          ],
          "name": "stdout"
        }
      ]
    },
    {
      "cell_type": "code",
      "metadata": {
        "id": "dlAedqSDtEej",
        "colab_type": "code",
        "colab": {
          "base_uri": "https://localhost:8080/",
          "height": 34
        },
        "outputId": "fcc35d54-5f7c-4ad3-bc97-ee64e79edc69"
      },
      "source": [
        "print(np.sum(y))"
      ],
      "execution_count": null,
      "outputs": [
        {
          "output_type": "stream",
          "text": [
            "66\n"
          ],
          "name": "stdout"
        }
      ]
    },
    {
      "cell_type": "markdown",
      "metadata": {
        "id": "D4Q5hYtHtSeA",
        "colab_type": "text"
      },
      "source": [
        "# 결론\n",
        "이상으로 간단하게 넘파이에 대한 소개를 마무리 한다. 넘파이는 머신러닝에서 필수적으로 사용되므로 넘파이에 대한 이해를 바탕으로 보다 깊은 학습을 수행할 수 있을 것이다."
      ]
    }
  ]
}